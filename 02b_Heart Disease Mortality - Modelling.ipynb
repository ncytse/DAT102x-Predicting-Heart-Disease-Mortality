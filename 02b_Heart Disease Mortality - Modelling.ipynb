{
 "cells": [
  {
   "cell_type": "code",
   "execution_count": 1,
   "metadata": {},
   "outputs": [],
   "source": [
    "import pandas as pd\n",
    "import numpy as np\n",
    "import matplotlib.pyplot as plt\n",
    "\n",
    "from sklearn.model_selection import train_test_split, cross_val_score, GridSearchCV, KFold\n",
    "#KFold\n",
    "#https://towardsdatascience.com/train-test-split-and-cross-validation-in-python-80b61beca4b6\n",
    "from sklearn.preprocessing import StandardScaler\n",
    "from sklearn import linear_model\n",
    "#http://scikit-learn.org/stable/modules/generated/sklearn.linear_model.LinearRegression.html\n",
    "from sklearn.metrics import mean_squared_error, make_scorer, confusion_matrix, roc_curve, auc\n",
    "#http://scikit-learn.org/stable/modules/generated/sklearn.metrics.mean_squared_error.html\n",
    "from sklearn.ensemble import RandomForestRegressor, RandomForestClassifier\n",
    "\n",
    "plt.style.use('ggplot')"
   ]
  },
  {
   "cell_type": "code",
   "execution_count": 2,
   "metadata": {},
   "outputs": [],
   "source": [
    "X = pd.read_csv('train_values.csv', index_col='row_id')\n",
    "y = pd.read_csv('train_labels.csv', index_col='row_id')\n",
    "df_predict = pd.read_csv('test_values.csv', index_col='row_id')\n",
    "\n",
    "X['health__air_pollution_particulate_matter']=X['health__air_pollution_particulate_matter'].astype(str)\n",
    "df_predict['health__air_pollution_particulate_matter']=df_predict['health__air_pollution_particulate_matter'].astype(str)"
   ]
  },
  {
   "cell_type": "code",
   "execution_count": null,
   "metadata": {},
   "outputs": [],
   "source": [
    "#y['heart_disease_mortality_per_100k'] > 280 high"
   ]
  },
  {
   "cell_type": "code",
   "execution_count": null,
   "metadata": {},
   "outputs": [],
   "source": [
    "X = X[[\n",
    "    'area__rucc',\n",
    "    'area__urban_influence',\n",
    "    'econ__economic_typology',\n",
    "    'health__air_pollution_particulate_matter',\n",
    "    'yr',\n",
    "    'demo__pct_adults_less_than_a_high_school_diploma',\n",
    "    'health__pct_physical_inacticity',\n",
    "    'health__pct_adult_obesity',\n",
    "    'health__pct_diabetes',\n",
    "    'health__pct_low_birthweight',\n",
    "    'demo__death_rate_per_1k',\n",
    "    'demo__pct_adults_with_high_school_diploma',\n",
    "    'demo__pct_adults_bachelors_or_higher',\n",
    "    'econ__pct_civilian_labor',\n",
    "    'health__pct_adult_smoking',\n",
    "    ]]"
   ]
  },
  {
   "cell_type": "code",
   "execution_count": null,
   "metadata": {},
   "outputs": [],
   "source": [
    "df_predict = df_predict[[\n",
    "    'area__rucc',\n",
    "    'area__urban_influence',\n",
    "    'econ__economic_typology',\n",
    "    'health__air_pollution_particulate_matter',\n",
    "    'yr',\n",
    "    'demo__pct_adults_less_than_a_high_school_diploma',\n",
    "    'health__pct_physical_inacticity',\n",
    "    'health__pct_adult_obesity',\n",
    "    'health__pct_diabetes',\n",
    "    'health__pct_low_birthweight',\n",
    "    'demo__death_rate_per_1k',\n",
    "    'demo__pct_adults_with_high_school_diploma',\n",
    "    'demo__pct_adults_bachelors_or_higher',\n",
    "    'econ__pct_civilian_labor',\n",
    "    'health__pct_adult_smoking',\n",
    "    ]]"
   ]
  },
  {
   "cell_type": "markdown",
   "metadata": {},
   "source": [
    "### Preview Dataset"
   ]
  },
  {
   "cell_type": "code",
   "execution_count": null,
   "metadata": {},
   "outputs": [],
   "source": [
    "X.head()"
   ]
  },
  {
   "cell_type": "code",
   "execution_count": null,
   "metadata": {},
   "outputs": [],
   "source": [
    "X.describe()"
   ]
  },
  {
   "cell_type": "code",
   "execution_count": null,
   "metadata": {},
   "outputs": [],
   "source": [
    "X.shape"
   ]
  },
  {
   "cell_type": "code",
   "execution_count": null,
   "metadata": {},
   "outputs": [],
   "source": [
    "X.isnull().sum()"
   ]
  },
  {
   "cell_type": "code",
   "execution_count": null,
   "metadata": {},
   "outputs": [],
   "source": [
    "X.dtypes"
   ]
  },
  {
   "cell_type": "markdown",
   "metadata": {},
   "source": [
    "### Create Correction list and categorical list"
   ]
  },
  {
   "cell_type": "code",
   "execution_count": 3,
   "metadata": {},
   "outputs": [
    {
     "name": "stdout",
     "output_type": "stream",
     "text": [
      "1 econ__pct_civilian_labor \n",
      " Min: 0.207 Max: 1.0 \n",
      "\n",
      "2 econ__pct_unemployment \n",
      " Min: 0.01 Max: 0.248 \n",
      "\n",
      "3 econ__pct_uninsured_adults \n",
      " Min: 0.046 Max: 0.496 \n",
      "\n",
      "4 econ__pct_uninsured_children \n",
      " Min: 0.012 Max: 0.281 \n",
      "\n",
      "5 demo__pct_female \n",
      " Min: 0.278 Max: 0.573 \n",
      "\n",
      "6 demo__pct_below_18_years_of_age \n",
      " Min: 0.092 Max: 0.41700000000000004 \n",
      "\n",
      "7 demo__pct_aged_65_years_and_older \n",
      " Min: 0.045 Max: 0.34600000000000003 \n",
      "\n",
      "8 demo__pct_hispanic \n",
      " Min: 0.0 Max: 0.932 \n",
      "\n",
      "9 demo__pct_non_hispanic_african_american \n",
      " Min: 0.0 Max: 0.858 \n",
      "\n",
      "10 demo__pct_non_hispanic_white \n",
      " Min: 0.053 Max: 0.99 \n",
      "\n",
      "11 demo__pct_american_indian_or_alaskan_native \n",
      " Min: 0.0 Max: 0.8590000000000001 \n",
      "\n",
      "12 demo__pct_asian \n",
      " Min: 0.0 Max: 0.341 \n",
      "\n",
      "13 demo__pct_adults_less_than_a_high_school_diploma \n",
      " Min: 0.01507537688442211 Max: 0.4735264735264735 \n",
      "\n",
      "14 demo__pct_adults_with_high_school_diploma \n",
      " Min: 0.06532663316582914 Max: 0.5589123867069486 \n",
      "\n",
      "15 demo__pct_adults_with_some_college \n",
      " Min: 0.10954773869346733 Max: 0.47395301327885603 \n",
      "\n",
      "16 demo__pct_adults_bachelors_or_higher \n",
      " Min: 0.01107754279959718 Max: 0.7989949748743718 \n",
      "\n",
      "17 demo__birth_rate_per_1k \n",
      " Min: 4.0 Max: 29.0 \n",
      "\n",
      "18 demo__death_rate_per_1k \n",
      " Min: 0.0 Max: 27.0 \n",
      "\n",
      "19 health__pct_adult_obesity \n",
      " Min: 0.131 Max: 0.47100000000000003 \n",
      "\n",
      "20 health__pct_adult_smoking \n",
      " Min: 0.046 Max: 0.513 \n",
      "\n",
      "21 health__pct_diabetes \n",
      " Min: 0.032 Max: 0.203 \n",
      "\n",
      "22 health__pct_low_birthweight \n",
      " Min: 0.033 Max: 0.23800000000000002 \n",
      "\n",
      "23 health__pct_excessive_drinking \n",
      " Min: 0.038 Max: 0.36700000000000005 \n",
      "\n",
      "24 health__pct_physical_inacticity \n",
      " Min: 0.09 Max: 0.442 \n",
      "\n",
      "25 health__homicides_per_100k \n",
      " Min: -0.4 Max: 50.49 \n",
      "\n",
      "26 health__motor_vehicle_crash_deaths_per_100k \n",
      " Min: 3.14 Max: 110.45 \n",
      "\n",
      "27 health__pop_per_dentist \n",
      " Min: 339.0 Max: 28130.0 \n",
      "\n",
      "28 health__pop_per_primary_care_physician \n",
      " Min: 189.0 Max: 23399.0 \n",
      "\n"
     ]
    }
   ],
   "source": [
    "def create_list(df, y):\n",
    "    corr_list = []\n",
    "    categorical_list = []\n",
    "    numeric_count = 0\n",
    "    \n",
    "    for col in df.columns:\n",
    "        if np.issubdtype(df[col].dtype, np.number):\n",
    "            corr = (col, y[y.columns[0]].corr(X[col]))\n",
    "            #print(col, \": \", corr)\n",
    "            corr_list.append(corr)\n",
    "        \n",
    "            numeric_count += 1\n",
    "            min_val = df[col].min()\n",
    "            max_val = df[col].max()\n",
    "            print(numeric_count, col, '\\n Min:', min_val,'Max:', max_val, '\\n')\n",
    "        \n",
    "        else:\n",
    "            categorical_list.append(col)\n",
    "            \n",
    "    return corr_list, categorical_list\n",
    "\n",
    "corr_list, X_cat_list = create_list(X, y)"
   ]
  },
  {
   "cell_type": "markdown",
   "metadata": {},
   "source": [
    "### Remove columns/ rows and Replace NaN values"
   ]
  },
  {
   "cell_type": "code",
   "execution_count": 4,
   "metadata": {},
   "outputs": [],
   "source": [
    "#X.drop(['health__homicides_per_100k'], axis=1, inplace=True)\n",
    "\n",
    "#Require at least 20/33 non-NA values\n",
    "#X.dropna(thresh=20, inplace=True)\n",
    "\n",
    "#fill na with group median\n",
    "#X.fillna(X.median(), inplace=True)\n",
    "#X.fillna(X.groupby(['area__rucc','health__air_pollution_particulate_matter']).transform('median'), inplace=True)\n",
    "#fillna again as there are still some nan values\n",
    "X.fillna(X.groupby('area__rucc').transform('median'), inplace=True)\n",
    "\n",
    "#X.head()"
   ]
  },
  {
   "cell_type": "code",
   "execution_count": 5,
   "metadata": {},
   "outputs": [],
   "source": [
    "#df_predict.drop(['health__homicides_per_100k'], axis=1, inplace=True)\n",
    "\n",
    "#fill na with group median\n",
    "#df_predict.fillna(df_predict.groupby(['area__rucc','health__air_pollution_particulate_matter']).transform('median'), inplace=True)\n",
    "df_predict.fillna(df_predict.groupby('area__rucc').transform('median'), inplace=True)"
   ]
  },
  {
   "cell_type": "code",
   "execution_count": null,
   "metadata": {},
   "outputs": [],
   "source": [
    "df_predict.isnull().sum()"
   ]
  },
  {
   "cell_type": "markdown",
   "metadata": {},
   "source": [
    "### RandomForestClassifier"
   ]
  },
  {
   "cell_type": "code",
   "execution_count": null,
   "metadata": {},
   "outputs": [],
   "source": [
    "y_dummy = y.copy()\n",
    "y_dummy['class'] = np.where(y_dummy['heart_disease_mortality_per_100k']> 280, 1,0)"
   ]
  },
  {
   "cell_type": "code",
   "execution_count": null,
   "metadata": {},
   "outputs": [],
   "source": [
    "X_train, X_test, y_train, y_test = train_test_split(X, y_dummy['class'].values.ravel(), train_size =0.80, test_size = 0.2, random_state=84)"
   ]
  },
  {
   "cell_type": "code",
   "execution_count": null,
   "metadata": {},
   "outputs": [],
   "source": [
    "model = RandomForestClassifier(n_estimators=12, oob_score=True)\n",
    "model.fit(X_train, y_train)"
   ]
  },
  {
   "cell_type": "code",
   "execution_count": null,
   "metadata": {},
   "outputs": [],
   "source": [
    "y_pred = model.predict(X_test)\n",
    "confusion_matrix(y_test, y_pred)"
   ]
  },
  {
   "cell_type": "code",
   "execution_count": null,
   "metadata": {},
   "outputs": [],
   "source": [
    "model.score(X_test,y_test)"
   ]
  },
  {
   "cell_type": "code",
   "execution_count": null,
   "metadata": {},
   "outputs": [],
   "source": [
    "TP = 239\n",
    "TN = 310\n",
    "FP = 37\n",
    "FN = 54\n",
    "\n",
    "#Recall/ TPR = TP/(TP+FN)\n",
    "FPR = TP/(TP+FN)\n",
    "#FPR = FP/(TN+FP)\n",
    "TPR = FP/(TN+FP) \n",
    "\n",
    "# This is the ROC curve\n",
    "plt.plot(FPR,TPR)\n",
    "plt.show()"
   ]
  },
  {
   "cell_type": "code",
   "execution_count": null,
   "metadata": {},
   "outputs": [],
   "source": [
    "# This is the AUC\n",
    "auc = np.trapz(TPR,FPR)"
   ]
  },
  {
   "cell_type": "markdown",
   "metadata": {},
   "source": [
    "### Take log and check min, max for numeric columns, put catergorical column name to cat_list"
   ]
  },
  {
   "cell_type": "code",
   "execution_count": 6,
   "metadata": {},
   "outputs": [],
   "source": [
    "def data_transform(df):\n",
    "    count = 0\n",
    "    for col in df.columns:       \n",
    "        if np.issubdtype(df[col].dtype, np.number):\n",
    "            count += 1\n",
    "            print(count,'.Updating column:',col)\n",
    "            df[col] = np.log(df[col]+1)\n",
    "    return df"
   ]
  },
  {
   "cell_type": "code",
   "execution_count": 7,
   "metadata": {},
   "outputs": [
    {
     "name": "stdout",
     "output_type": "stream",
     "text": [
      "1 .Updating column: econ__pct_civilian_labor\n",
      "2 .Updating column: econ__pct_unemployment\n",
      "3 .Updating column: econ__pct_uninsured_adults\n",
      "4 .Updating column: econ__pct_uninsured_children\n",
      "5 .Updating column: demo__pct_female\n",
      "6 .Updating column: demo__pct_below_18_years_of_age\n",
      "7 .Updating column: demo__pct_aged_65_years_and_older\n",
      "8 .Updating column: demo__pct_hispanic\n",
      "9 .Updating column: demo__pct_non_hispanic_african_american\n",
      "10 .Updating column: demo__pct_non_hispanic_white\n",
      "11 .Updating column: demo__pct_american_indian_or_alaskan_native\n",
      "12 .Updating column: demo__pct_asian\n",
      "13 .Updating column: demo__pct_adults_less_than_a_high_school_diploma\n",
      "14 .Updating column: demo__pct_adults_with_high_school_diploma\n",
      "15 .Updating column: demo__pct_adults_with_some_college\n",
      "16 .Updating column: demo__pct_adults_bachelors_or_higher\n",
      "17 .Updating column: demo__birth_rate_per_1k\n",
      "18 .Updating column: demo__death_rate_per_1k\n",
      "19 .Updating column: health__pct_adult_obesity\n",
      "20 .Updating column: health__pct_adult_smoking\n",
      "21 .Updating column: health__pct_diabetes\n",
      "22 .Updating column: health__pct_low_birthweight\n",
      "23 .Updating column: health__pct_excessive_drinking\n",
      "24 .Updating column: health__pct_physical_inacticity\n",
      "25 .Updating column: health__homicides_per_100k\n",
      "26 .Updating column: health__motor_vehicle_crash_deaths_per_100k\n",
      "27 .Updating column: health__pop_per_dentist\n",
      "28 .Updating column: health__pop_per_primary_care_physician\n",
      "1 .Updating column: econ__pct_civilian_labor\n",
      "2 .Updating column: econ__pct_unemployment\n",
      "3 .Updating column: econ__pct_uninsured_adults\n",
      "4 .Updating column: econ__pct_uninsured_children\n",
      "5 .Updating column: demo__pct_female\n",
      "6 .Updating column: demo__pct_below_18_years_of_age\n",
      "7 .Updating column: demo__pct_aged_65_years_and_older\n",
      "8 .Updating column: demo__pct_hispanic\n",
      "9 .Updating column: demo__pct_non_hispanic_african_american\n",
      "10 .Updating column: demo__pct_non_hispanic_white\n",
      "11 .Updating column: demo__pct_american_indian_or_alaskan_native\n",
      "12 .Updating column: demo__pct_asian\n",
      "13 .Updating column: demo__pct_adults_less_than_a_high_school_diploma\n",
      "14 .Updating column: demo__pct_adults_with_high_school_diploma\n",
      "15 .Updating column: demo__pct_adults_with_some_college\n",
      "16 .Updating column: demo__pct_adults_bachelors_or_higher\n",
      "17 .Updating column: demo__birth_rate_per_1k\n",
      "18 .Updating column: demo__death_rate_per_1k\n",
      "19 .Updating column: health__pct_adult_obesity\n",
      "20 .Updating column: health__pct_adult_smoking\n",
      "21 .Updating column: health__pct_diabetes\n",
      "22 .Updating column: health__pct_low_birthweight\n",
      "23 .Updating column: health__pct_excessive_drinking\n",
      "24 .Updating column: health__pct_physical_inacticity\n",
      "25 .Updating column: health__homicides_per_100k\n",
      "26 .Updating column: health__motor_vehicle_crash_deaths_per_100k\n",
      "27 .Updating column: health__pop_per_dentist\n",
      "28 .Updating column: health__pop_per_primary_care_physician\n"
     ]
    }
   ],
   "source": [
    "X = data_transform(X)\n",
    "df_predict = data_transform(df_predict)"
   ]
  },
  {
   "cell_type": "markdown",
   "metadata": {},
   "source": [
    "### One Hot, Train_Test Split and Feature Scaling"
   ]
  },
  {
   "cell_type": "code",
   "execution_count": 8,
   "metadata": {},
   "outputs": [],
   "source": [
    "def one_hot(df, cat_list):\n",
    "    return pd.get_dummies(df, columns = cat_list)"
   ]
  },
  {
   "cell_type": "code",
   "execution_count": 9,
   "metadata": {},
   "outputs": [],
   "source": [
    "#get_dummies as Onehot\n",
    "X = one_hot(X, X_cat_list)\n",
    "df_predict = one_hot(df_predict, X_cat_list)"
   ]
  },
  {
   "cell_type": "code",
   "execution_count": 35,
   "metadata": {},
   "outputs": [],
   "source": [
    "#train:Test = 80:20  df[col] = np.log(df[col]+1)\n",
    "X_train, X_test, y_train, y_test = train_test_split(X, np.log(np.log(y+1)), train_size =0.80, test_size = 0.2, random_state=154)"
   ]
  },
  {
   "cell_type": "code",
   "execution_count": 17,
   "metadata": {},
   "outputs": [
    {
     "data": {
      "text/plain": [
       "heart_disease_mortality_per_100k   -8.967049e-12\n",
       "dtype: float64"
      ]
     },
     "execution_count": 17,
     "metadata": {},
     "output_type": "execute_result"
    }
   ],
   "source": [
    "((np.exp(np.log(y+1))-1) - y).sum()"
   ]
  },
  {
   "cell_type": "code",
   "execution_count": 36,
   "metadata": {},
   "outputs": [],
   "source": [
    "#train:Test = 80:20  df[col] = np.log(df[col]+1)\n",
    "X_train, X_test, y_train, y_test = train_test_split(X, y.values.ravel(), train_size =0.80, test_size = 0.2, random_state=154)"
   ]
  },
  {
   "cell_type": "code",
   "execution_count": 37,
   "metadata": {},
   "outputs": [],
   "source": [
    "#feature scaling\n",
    "std_scale = StandardScaler().fit(X_train)\n",
    "\n",
    "X_train_std = std_scale.transform(X_train)\n",
    "X_test_std = std_scale.transform(X_test)\n",
    "\n",
    "X_predict_std = std_scale.transform(df_predict)\n",
    "\n",
    "#set cv by K-Fold\n",
    "kf = KFold(n_splits=30, shuffle=True, random_state=52)"
   ]
  },
  {
   "cell_type": "markdown",
   "metadata": {},
   "source": [
    "### Baseline Model"
   ]
  },
  {
   "cell_type": "code",
   "execution_count": 20,
   "metadata": {},
   "outputs": [
    {
     "name": "stdout",
     "output_type": "stream",
     "text": [
      "##########Baseline Model##########\n",
      "RMSE for Train set: 0.02\n",
      "RMSE for Test set: 0.02\n"
     ]
    }
   ],
   "source": [
    "##########Baseline case only##########\n",
    "print('##########Baseline Model##########')\n",
    "lr = linear_model.LinearRegression()\n",
    "lr.fit(X_train_std , y_train)\n",
    "\n",
    "lr_train_scores = cross_val_score(lr, X_train_std, y_train, scoring='neg_mean_squared_error', cv=kf)\n",
    "lr_test_scores = cross_val_score(lr, X_test_std, y_test, scoring='neg_mean_squared_error', cv=kf)\n",
    "\n",
    "print('RMSE for Train set: %.2f' % abs(lr_train_scores.mean())**(1/2))\n",
    "print('RMSE for Test set: %.2f' % abs(lr_test_scores.mean())**(1/2))"
   ]
  },
  {
   "cell_type": "code",
   "execution_count": 22,
   "metadata": {},
   "outputs": [],
   "source": [
    "#Finding best parameter for model\n",
    "def find_best_params(model_name, grid_values):\n",
    "    model = model_name\n",
    "    grid_search = GridSearchCV(estimator = model, param_grid = grid_values, scoring='neg_mean_squared_error')\n",
    "    # Fit the grid search to the data\n",
    "    grid_search.fit(X_train_std, y_train)\n",
    "    \n",
    "    grid_search_scores = cross_val_score(grid_search, X_train_std, y_train, cv=kf, scoring='neg_mean_squared_error')\n",
    "\n",
    "    print('Grid best parameter: ', grid_search.best_params_)\n",
    "    print('Best score: %.2f' % abs(grid_search.best_score_)**(1/2))\n",
    "    print(\"Accuracy: %0.2f (+/- %0.2f)\" % (abs(grid_search_scores.mean())**(1/2), grid_search_scores.std() * 2))"
   ]
  },
  {
   "cell_type": "markdown",
   "metadata": {},
   "source": [
    "### Ridge Regression"
   ]
  },
  {
   "cell_type": "code",
   "execution_count": 23,
   "metadata": {},
   "outputs": [
    {
     "name": "stdout",
     "output_type": "stream",
     "text": [
      "Grid best parameter:  {'alpha': 1}\n",
      "Best score: 0.02\n",
      "Accuracy: 0.02 (+/- 0.00)\n"
     ]
    }
   ],
   "source": [
    "grid_values = {'alpha': [0.0001, 0.001, 0.01, 0.1, 1, 10, 20, 25, 30, 50]}\n",
    "model_name = linear_model.Ridge()\n",
    "\n",
    "find_best_params(model_name, grid_values)"
   ]
  },
  {
   "cell_type": "code",
   "execution_count": 24,
   "metadata": {},
   "outputs": [
    {
     "name": "stdout",
     "output_type": "stream",
     "text": [
      "##########Ridge Regression Test Set Result##########\n",
      "RMSE for Train set: 0.02\n",
      "RMSE for Test set: 0.02\n"
     ]
    }
   ],
   "source": [
    "print('##########Ridge Regression Test Set Result##########')\n",
    "\n",
    "ridge_lr = linear_model.Ridge(alpha=10)\n",
    "ridge_lr_train_scores = cross_val_score(ridge_lr, X_train_std, y_train, scoring='neg_mean_squared_error', cv=kf)\n",
    "ridge_lr_test_scores = cross_val_score(ridge_lr, X_test_std, y_test, scoring='neg_mean_squared_error', cv=kf)\n",
    "\n",
    "print('RMSE for Train set: %.2f' % abs(ridge_lr_train_scores.mean())**(1/2))\n",
    "print('RMSE for Test set: %.2f' % abs(ridge_lr_test_scores.mean())**(1/2))"
   ]
  },
  {
   "cell_type": "code",
   "execution_count": 33,
   "metadata": {},
   "outputs": [
    {
     "data": {
      "image/png": "[encoded data removed]",
      "text/plain": [
       "<matplotlib.figure.Figure at 0x11d81924c88>"
      ]
     },
     "metadata": {},
     "output_type": "display_data"
    }
   ],
   "source": [
    "ridge_lr.fit(X_train_std, y_train)\n",
    "plt.scatter(ridge_lr.predict(X_test_std), y_test['heart_disease_mortality_per_100k'], alpha=0.5)\n",
    "plt.xlabel('Scored Labels')\n",
    "plt.ylabel('ln_heart_disease_rate')\n",
    "plt.show()"
   ]
  },
  {
   "cell_type": "code",
   "execution_count": 46,
   "metadata": {},
   "outputs": [
    {
     "data": {
      "image/png": "[encoded data removed]",
      "text/plain": [
       "<matplotlib.figure.Figure at 0x11d819c40f0>"
      ]
     },
     "metadata": {},
     "output_type": "display_data"
    }
   ],
   "source": [
    "ridge_lr.fit(X_train_std, y_train)\n",
    "plt.scatter(ridge_lr.predict(X_test_std), y_test, alpha=0.5)\n",
    "plt.xlabel('Exp(Scored Labels)')\n",
    "plt.ylabel('Heart_disease_rate')\n",
    "plt.show()"
   ]
  },
  {
   "cell_type": "code",
   "execution_count": 45,
   "metadata": {},
   "outputs": [
    {
     "data": {
      "text/plain": [
       "array([322, 169, 352, 316, 195, 309, 219, 227, 225, 330, 284, 182, 344,\n",
       "       354, 267, 260, 404, 149, 304, 236, 326, 199, 256, 276, 248, 303,\n",
       "       372, 260, 383, 259, 294, 383, 306, 279, 378, 316, 255, 282, 222,\n",
       "       310, 260, 225, 295, 296, 316, 260, 401, 290, 178, 187, 205, 432,\n",
       "       335, 346, 214, 337, 325, 328, 203, 198, 265, 214, 250, 304, 300,\n",
       "       245, 209, 260, 364, 221, 299, 279, 283, 335, 366, 335, 232, 244,\n",
       "       245, 264, 345, 209, 222, 346, 284, 351, 291, 268, 226, 294, 337,\n",
       "       273, 176, 325, 350, 221, 466, 304, 288, 273, 360, 233, 349, 255,\n",
       "       239, 265, 355, 256, 404, 326, 281, 196, 313, 211, 219, 242, 420,\n",
       "       167, 281, 285, 236, 264, 306, 272, 238, 315, 389, 274, 307, 369,\n",
       "       285, 234, 308, 230, 287, 265, 235, 482, 229, 299, 155, 259, 289,\n",
       "       300, 366, 266, 239, 241, 336, 202, 223, 213, 135, 265, 211, 257,\n",
       "       380, 188, 300, 238, 293, 241, 216, 305, 296, 382, 323, 332, 288,\n",
       "       187, 257, 297, 343, 210, 261, 319, 353, 246, 375, 434, 272, 216,\n",
       "       223, 206, 266, 283, 232, 233, 280, 187, 320, 358, 264, 274, 182,\n",
       "       297, 270, 212, 367, 286, 309, 252, 271, 244, 194, 226, 155, 293,\n",
       "       244, 222, 298, 366, 320, 221, 322, 220, 169, 257, 298, 224, 284,\n",
       "       308, 309, 229, 298, 264, 236, 259, 398, 317, 252, 276, 230, 247,\n",
       "       219, 243, 249, 305, 229, 294, 330, 257, 213, 202, 320, 278, 293,\n",
       "       334, 381, 330, 320, 250, 183, 315, 306, 324, 274, 188, 327, 318,\n",
       "       243, 175, 319, 317, 219, 208, 290, 407, 291, 353, 287, 218, 255,\n",
       "       387, 203, 377, 204, 338, 307, 229, 363, 292, 390, 329, 270, 350,\n",
       "       303, 407, 210, 206, 262, 241, 334, 315, 283, 290, 254, 322, 398,\n",
       "       265, 250, 308, 225, 210, 313, 243, 236, 313, 293, 369, 230, 283,\n",
       "       246, 289, 276, 270, 187, 398, 292, 227, 215, 223, 222, 213, 335,\n",
       "       304, 468, 282, 249, 307, 316, 271, 209, 273, 276, 295, 216, 325,\n",
       "       216, 241, 313, 262, 347, 253, 203, 247, 324, 327, 289, 214, 220,\n",
       "       204, 235, 287, 269, 325, 256, 225, 330, 341, 431, 346, 310, 252,\n",
       "       239, 323, 261, 303, 363, 338, 265, 226, 248, 223, 316, 252, 288,\n",
       "       184, 282, 318, 228, 260, 293, 231, 341, 417, 306, 256, 243, 195,\n",
       "       332, 224, 187, 239, 304, 313, 297, 376, 281, 324, 368, 254, 129,\n",
       "       239, 207, 219, 225, 272, 301, 320, 192, 205, 410, 237, 189, 367,\n",
       "       267, 306, 247, 259, 259, 298, 307, 246, 388, 218, 175, 273, 393,\n",
       "       264, 213, 278, 238, 353, 309, 187, 314, 468, 283, 272, 172, 240,\n",
       "       195, 240, 274, 197, 329, 197, 444, 243, 253, 348, 261, 408, 214,\n",
       "       220, 219, 266, 299, 304, 408, 242, 225, 311, 266, 249, 289, 329,\n",
       "       222, 273, 300, 242, 232, 245, 281, 240, 331, 184, 333, 213, 324,\n",
       "       291, 272, 219, 299, 297, 395, 276, 258, 293, 403, 249, 299, 283,\n",
       "       304, 247, 203, 348, 242, 306, 254, 338, 210, 289, 329, 381, 375,\n",
       "       254, 330, 256, 244, 255, 360, 243, 245, 243, 206, 330, 254, 321,\n",
       "       234, 188, 334, 363, 211, 206, 296, 205, 247, 238, 321, 318, 196,\n",
       "       315, 332, 227, 205, 275, 355, 214, 292, 314, 255, 337, 245, 274,\n",
       "       238, 315, 271, 282, 339, 307, 323, 328, 259, 296, 351, 210, 261,\n",
       "       220, 221, 288, 316, 251, 229, 257, 308, 308, 252, 125, 227, 308,\n",
       "       278, 279, 231, 179, 212, 305, 298, 244, 327, 193, 297, 392, 253,\n",
       "       210, 187, 256, 329, 424, 226, 188, 272, 327, 232, 263, 380, 370,\n",
       "       420, 291, 314, 241, 221, 232, 254, 222, 327, 249, 382, 316, 346,\n",
       "       279, 354, 213, 244, 282, 292, 210, 390, 206, 275, 335, 289, 325,\n",
       "       251, 255, 260, 273, 319, 276, 379, 252, 360, 276, 338, 265, 434,\n",
       "       288, 291, 259], dtype=int64)"
      ]
     },
     "execution_count": 45,
     "metadata": {},
     "output_type": "execute_result"
    }
   ],
   "source": [
    "y_test"
   ]
  },
  {
   "cell_type": "markdown",
   "metadata": {},
   "source": [
    "### Lasso Regression"
   ]
  },
  {
   "cell_type": "code",
   "execution_count": null,
   "metadata": {},
   "outputs": [],
   "source": [
    "\"\"\"\n",
    "print('##########Lasso##########')\n",
    "lassocv_lr = linear_model.LassoCV()\n",
    "lassocv_lr.fit(X_train_std , y_train)\n",
    "\n",
    "#y_cv_lassocv_lr = lassocv_lr.predict(X_cv_std)\n",
    "#print('RMSE for CV set: %.2f' %(mean_squared_error(y_cv, y_cv_lassocv_lr))** (1/2))\n",
    "\n",
    "#########After best parameter is selected#########\n",
    "#y_test_lassocv_lr = lassocv_lr.predict(X_test_std)\n",
    "#print('RMSE for test set: %.2f' %(mean_squared_error(y_test, y_test_lassocv_lr))** (1/2))\n",
    "\n",
    "lassocv_lr_scores = cross_val_score(lassocv_lr, X_train, y_train, cv=30, scoring='neg_mean_squared_error')\n",
    "\n",
    "print('RMSE for Train set: %.2f' % abs(lassocv_lr_scores.mean())**(1/2))\n",
    "print('RMSE for Test set:')\"\"\""
   ]
  },
  {
   "cell_type": "code",
   "execution_count": 25,
   "metadata": {},
   "outputs": [
    {
     "name": "stdout",
     "output_type": "stream",
     "text": [
      "Grid best parameter:  {'alpha': 0.01, 'max_iter': 10000}\n",
      "Best score: 0.03\n",
      "Accuracy: 0.03 (+/- 0.00)\n"
     ]
    }
   ],
   "source": [
    "grid_values = {'alpha': [0.01, 0.02, 0.03, 0.05, 0.1, 1, 10], 'max_iter':[10000,5000]}\n",
    "\n",
    "model_name = linear_model.Lasso()\n",
    "find_best_params(model_name, grid_values)"
   ]
  },
  {
   "cell_type": "code",
   "execution_count": 26,
   "metadata": {},
   "outputs": [
    {
     "name": "stdout",
     "output_type": "stream",
     "text": [
      "##########Lasso Regression Test Set Result##########\n",
      "RMSE for Train set: 0.04\n",
      "RMSE for Test set: 0.04\n"
     ]
    }
   ],
   "source": [
    "print('##########Lasso Regression Test Set Result##########')\n",
    "\n",
    "lasso_lr = linear_model.Lasso(alpha=0.05, max_iter=10000)\n",
    "lasso_lr_train_scores = cross_val_score(lasso_lr, X_train_std, y_train, scoring='neg_mean_squared_error', cv=kf)\n",
    "lasso_lr_test_scores = cross_val_score(lasso_lr, X_test_std, y_test, scoring='neg_mean_squared_error', cv=kf)\n",
    "\n",
    "print('RMSE for Train set: %.2f' % abs(lasso_lr_train_scores.mean())**(1/2))\n",
    "print('RMSE for Test set: %.2f' % abs(lasso_lr_test_scores.mean())**(1/2))"
   ]
  },
  {
   "cell_type": "markdown",
   "metadata": {},
   "source": [
    "### ElasticNet"
   ]
  },
  {
   "cell_type": "code",
   "execution_count": null,
   "metadata": {},
   "outputs": [],
   "source": [
    "grid_values = {'alpha': [0.01, 0.02, 0.03, 0.05, 0.1, 1, 10], 'l1_ratio': [0.1, 0.5, 0.7, 0.9, 1]}\n",
    "\n",
    "model_name = linear_model.ElasticNet()\n",
    "find_best_params(model_name, grid_values)"
   ]
  },
  {
   "cell_type": "code",
   "execution_count": null,
   "metadata": {},
   "outputs": [],
   "source": [
    "print('##########ElasticNet Test Set Result##########')\n",
    "\n",
    "en = linear_model.ElasticNet(alpha=0.02, l1_ratio=0.9)\n",
    "en_train_scores = cross_val_score(en, X_train_std, y_train, scoring='neg_mean_squared_error', cv=kf)\n",
    "en_test_scores = cross_val_score(en, X_test_std, y_test, scoring='neg_mean_squared_error', cv=kf)\n",
    "\n",
    "print('RMSE for Train set: %.2f' % abs(en_train_scores.mean())**(1/2))\n",
    "print('RMSE for Test set: %.2f' % abs(en_test_scores.mean())**(1/2))"
   ]
  },
  {
   "cell_type": "markdown",
   "metadata": {},
   "source": [
    "### Prediction"
   ]
  },
  {
   "cell_type": "code",
   "execution_count": null,
   "metadata": {},
   "outputs": [],
   "source": [
    "def prediction(model):\n",
    "    \n",
    "    #create dataframe for answer\n",
    "    df = pd.DataFrame(df_predict.index)\n",
    "\n",
    "    model.fit(X_train_std, y_train)\n",
    "\n",
    "    #return the result of predict\n",
    "    df['heart_disease_mortality_per_100k'] = pd.Series(model.predict(X_predict_std))\n",
    "    df['heart_disease_mortality_per_100k'] =df['heart_disease_mortality_per_100k'].astype('int')\n",
    "    \n",
    "    return df"
   ]
  },
  {
   "cell_type": "code",
   "execution_count": null,
   "metadata": {},
   "outputs": [],
   "source": [
    "#df = prediction(linear_model.Ridge(alpha=10)) #32.1999\n",
    "df = prediction(linear_model.Lasso(alpha=0.05, max_iter=10000)) #32.1632 #32.1086 by group median\n",
    "#df = prediction(linear_model.LinearRegression()) #32.2258\n",
    "#df = prediction(RandomForestRegressor(bootstrap=True, max_depth=25, max_features=20, min_samples_leaf=3, min_samples_split=3)) #35.7147\n",
    "\n",
    "df.to_csv('test_labels.csv', index=False)"
   ]
  },
  {
   "cell_type": "markdown",
   "metadata": {},
   "source": [
    "### Random Forest"
   ]
  },
  {
   "cell_type": "code",
   "execution_count": null,
   "metadata": {},
   "outputs": [],
   "source": [
    "grid_values = {\n",
    "    'bootstrap': [True],\n",
    "    'max_depth': [15, 20, 25],\n",
    "    'max_features': [10, 15, 20],\n",
    "    'min_samples_leaf': [3, 5, 8],\n",
    "    'min_samples_split': [3, 5, 8],\n",
    "}\n",
    "model_name = RandomForestRegressor()\n",
    "find_best_params(model_name, grid_values)"
   ]
  },
  {
   "cell_type": "code",
   "execution_count": null,
   "metadata": {},
   "outputs": [],
   "source": [
    "#n_estimators, max_features, max_depth, min_samples_split \n",
    "#http://scikit-learn.org/stable/modules/generated/sklearn.ensemble.RandomForestRegressor.html\n",
    "print('##########Random Forest Test Set Result##########')\n",
    "\n",
    "rf = RandomForestRegressor(bootstrap=True, max_depth=15, max_features=20, min_samples_leaf=3, min_samples_split=3)\n",
    "rf_train_scores = cross_val_score(rf, X_train_std, y_train, scoring='neg_mean_squared_error', cv=kf)\n",
    "rf_test_scores = cross_val_score(rf, X_test_std, y_test, scoring='neg_mean_squared_error', cv=kf)\n",
    "\n",
    "print('RMSE for Train set: %.2f' % abs(rf_train_scores.mean())**(1/2))\n",
    "print('RMSE for Test set: %.2f' % abs(rf_test_scores.mean())**(1/2))"
   ]
  },
  {
   "cell_type": "markdown",
   "metadata": {},
   "source": [
    "### Feature Importances"
   ]
  },
  {
   "cell_type": "code",
   "execution_count": null,
   "metadata": {},
   "outputs": [],
   "source": [
    "rf.fit(X_train_std, y_train)\n",
    "df_feature = pd.DataFrame(X.columns, columns=['feature'])\n",
    "\n",
    "#return the result of predict\n",
    "df_feature['feature_importances'] = pd.Series(rf.feature_importances_)"
   ]
  },
  {
   "cell_type": "code",
   "execution_count": null,
   "metadata": {},
   "outputs": [],
   "source": [
    "#feature_importances of catergorical features\n",
    "cat_list = ['area__rucc', 'area__urban_influence', 'econ__economic_typology', 'health__air_pollution_particulate_matter', 'yr']\n",
    "df_feature[df_feature['feature'].isin(cat_list)]"
   ]
  },
  {
   "cell_type": "code",
   "execution_count": null,
   "metadata": {},
   "outputs": [],
   "source": [
    "#Top 10 features\n",
    "df_feature.sort_values(by=['feature_importances'], ascending=False).head(10)"
   ]
  },
  {
   "cell_type": "markdown",
   "metadata": {},
   "source": [
    "### Others"
   ]
  },
  {
   "cell_type": "code",
   "execution_count": null,
   "metadata": {},
   "outputs": [],
   "source": [
    "#https://stackoverflow.com/questions/42228735/scikit-learn-gridsearchcv-with-multiple-repetitions/42230764#42230764\n",
    "#https://stackoverflow.com/questions/42362027/model-help-using-scikit-learn-when-using-gridsearch/42364900#42364900\n",
    "kf = KFold(n_splits=5, shuffle=True, random_state=52)\n",
    "gcv = GridSearchCV(pipe, param_grid = grid_values, cv=cv)\n",
    "\n",
    "gcv.fit(features,labels) #with the full dataset\n",
    "\n",
    "for train_ind, test_ind in cv.split(features,labels):\n",
    "    x_train, x_test = features[train_ind], features[test_ind]\n",
    "    y_train, y_test = labels[train_ind],labels[test_ind]\n",
    "\n",
    "    gcv.best_estimator_.fit(x_train,y_train)\n",
    "    gcv.best_estimator_.predict(x_test)\n",
    "#################################################################    \n",
    "for train_index, test_index in kf.split(X):\n",
    "...    print(\"TRAIN:\", train_index, \"TEST:\", test_index)\n",
    "...    X_train, X_test = X[train_index], X[test_index]\n",
    "...    y_train, y_test = y[train_index], y[test_index]\n",
    "TRAIN: [2 3] TEST: [0 1]\n",
    "TRAIN: [0 1] TEST: [2 3]"
   ]
  },
  {
   "cell_type": "code",
   "execution_count": null,
   "metadata": {},
   "outputs": [],
   "source": [
    "kf = KFold(n_splits=30, shuffle=True, random_state=52)\n",
    "for train_index, test_index in kf.split(X,y):\n",
    "    print(\"TRAIN:\", train_index, \"TEST:\", test_index)\n",
    "    X_train, X_test = X[train_index], X[test_index]\n",
    "    y_train, y_test = y[train_index], y[test_index]"
   ]
  },
  {
   "cell_type": "code",
   "execution_count": null,
   "metadata": {},
   "outputs": [],
   "source": [
    "##############Test#################\n",
    "#std_scale = StandardScaler().fit(X)\n",
    "\n",
    "grid_values = {'alpha': [0.0001, 0.001, 0.01, 0.1, 1, 10]}\n",
    "\n",
    "cv = KFold(n_splits=10, shuffle=True, random_state=52)\n",
    "gcv = GridSearchCV(ridge_lr, param_grid = grid_values, cv=cv)\n",
    "\n",
    "#gcv.fit(features,labels) #with the full dataset\n",
    "gcv.fit(X, y)\n",
    "\n",
    "for train_ind, test_ind in cv.split(X, y):\n",
    "    x_train, x_test = X[train_ind], X[test_ind]\n",
    "    y_train, y_test = y[train_ind],y[test_ind]\n",
    "\n",
    "    gcv.best_estimator_.fit(x_train,y_train)\n",
    "    gcv.best_estimator_.predict(x_test)"
   ]
  }
 ],
 "metadata": {
  "kernelspec": {
   "display_name": "Python 3",
   "language": "python",
   "name": "python3"
  },
  "language_info": {
   "codemirror_mode": {
    "name": "ipython",
    "version": 3
   },
   "file_extension": ".py",
   "mimetype": "text/x-python",
   "name": "python",
   "nbconvert_exporter": "python",
   "pygments_lexer": "ipython3",
   "version": "3.6.4"
  }
 },
 "nbformat": 4,
 "nbformat_minor": 2
}
