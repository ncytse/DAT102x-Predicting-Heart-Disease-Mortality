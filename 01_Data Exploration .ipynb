{
 "cells": [
  {
   "cell_type": "code",
   "execution_count": 1,
   "metadata": {},
   "outputs": [],
   "source": [
    "import pandas as pd"
   ]
  },
  {
   "cell_type": "code",
   "execution_count": 2,
   "metadata": {},
   "outputs": [],
   "source": [
    "X = pd.read_csv('train_values.csv', index_col='row_id')\n",
    "y = pd.read_csv('train_labels.csv', index_col='row_id')"
   ]
  },
  {
   "cell_type": "code",
   "execution_count": 3,
   "metadata": {},
   "outputs": [
    {
     "data": {
      "text/html": [
       "<div>\n",
       "<style scoped>\n",
       "    .dataframe tbody tr th:only-of-type {\n",
       "        vertical-align: middle;\n",
       "    }\n",
       "\n",
       "    .dataframe tbody tr th {\n",
       "        vertical-align: top;\n",
       "    }\n",
       "\n",
       "    .dataframe thead th {\n",
       "        text-align: right;\n",
       "    }\n",
       "</style>\n",
       "<table border=\"1\" class=\"dataframe\">\n",
       "  <thead>\n",
       "    <tr style=\"text-align: right;\">\n",
       "      <th></th>\n",
       "      <th>area__rucc</th>\n",
       "      <th>area__urban_influence</th>\n",
       "      <th>econ__economic_typology</th>\n",
       "      <th>econ__pct_civilian_labor</th>\n",
       "      <th>econ__pct_unemployment</th>\n",
       "      <th>econ__pct_uninsured_adults</th>\n",
       "      <th>econ__pct_uninsured_children</th>\n",
       "      <th>demo__pct_female</th>\n",
       "      <th>demo__pct_below_18_years_of_age</th>\n",
       "      <th>demo__pct_aged_65_years_and_older</th>\n",
       "      <th>...</th>\n",
       "      <th>health__pct_diabetes</th>\n",
       "      <th>health__pct_low_birthweight</th>\n",
       "      <th>health__pct_excessive_drinking</th>\n",
       "      <th>health__pct_physical_inacticity</th>\n",
       "      <th>health__air_pollution_particulate_matter</th>\n",
       "      <th>health__homicides_per_100k</th>\n",
       "      <th>health__motor_vehicle_crash_deaths_per_100k</th>\n",
       "      <th>health__pop_per_dentist</th>\n",
       "      <th>health__pop_per_primary_care_physician</th>\n",
       "      <th>yr</th>\n",
       "    </tr>\n",
       "    <tr>\n",
       "      <th>row_id</th>\n",
       "      <th></th>\n",
       "      <th></th>\n",
       "      <th></th>\n",
       "      <th></th>\n",
       "      <th></th>\n",
       "      <th></th>\n",
       "      <th></th>\n",
       "      <th></th>\n",
       "      <th></th>\n",
       "      <th></th>\n",
       "      <th></th>\n",
       "      <th></th>\n",
       "      <th></th>\n",
       "      <th></th>\n",
       "      <th></th>\n",
       "      <th></th>\n",
       "      <th></th>\n",
       "      <th></th>\n",
       "      <th></th>\n",
       "      <th></th>\n",
       "      <th></th>\n",
       "    </tr>\n",
       "  </thead>\n",
       "  <tbody>\n",
       "    <tr>\n",
       "      <th>0</th>\n",
       "      <td>Metro - Counties in metro areas of fewer than ...</td>\n",
       "      <td>Small-in a metro area with fewer than 1 millio...</td>\n",
       "      <td>Manufacturing-dependent</td>\n",
       "      <td>0.408</td>\n",
       "      <td>0.057</td>\n",
       "      <td>0.254</td>\n",
       "      <td>0.066</td>\n",
       "      <td>0.516</td>\n",
       "      <td>0.235</td>\n",
       "      <td>0.176</td>\n",
       "      <td>...</td>\n",
       "      <td>0.131</td>\n",
       "      <td>0.089</td>\n",
       "      <td>NaN</td>\n",
       "      <td>0.332</td>\n",
       "      <td>13.0</td>\n",
       "      <td>2.80</td>\n",
       "      <td>15.09</td>\n",
       "      <td>1650.0</td>\n",
       "      <td>1489.0</td>\n",
       "      <td>a</td>\n",
       "    </tr>\n",
       "    <tr>\n",
       "      <th>1</th>\n",
       "      <td>Metro - Counties in metro areas of fewer than ...</td>\n",
       "      <td>Small-in a metro area with fewer than 1 millio...</td>\n",
       "      <td>Mining-dependent</td>\n",
       "      <td>0.556</td>\n",
       "      <td>0.039</td>\n",
       "      <td>0.260</td>\n",
       "      <td>0.143</td>\n",
       "      <td>0.503</td>\n",
       "      <td>0.272</td>\n",
       "      <td>0.101</td>\n",
       "      <td>...</td>\n",
       "      <td>0.090</td>\n",
       "      <td>0.082</td>\n",
       "      <td>0.181</td>\n",
       "      <td>0.265</td>\n",
       "      <td>10.0</td>\n",
       "      <td>2.30</td>\n",
       "      <td>19.79</td>\n",
       "      <td>2010.0</td>\n",
       "      <td>2480.0</td>\n",
       "      <td>a</td>\n",
       "    </tr>\n",
       "    <tr>\n",
       "      <th>4</th>\n",
       "      <td>Metro - Counties in metro areas of 1 million p...</td>\n",
       "      <td>Large-in a metro area with at least 1 million ...</td>\n",
       "      <td>Nonspecialized</td>\n",
       "      <td>0.541</td>\n",
       "      <td>0.057</td>\n",
       "      <td>0.070</td>\n",
       "      <td>0.023</td>\n",
       "      <td>0.522</td>\n",
       "      <td>0.179</td>\n",
       "      <td>0.115</td>\n",
       "      <td>...</td>\n",
       "      <td>0.084</td>\n",
       "      <td>0.098</td>\n",
       "      <td>0.195</td>\n",
       "      <td>0.209</td>\n",
       "      <td>10.0</td>\n",
       "      <td>9.31</td>\n",
       "      <td>3.14</td>\n",
       "      <td>629.0</td>\n",
       "      <td>690.0</td>\n",
       "      <td>b</td>\n",
       "    </tr>\n",
       "    <tr>\n",
       "      <th>5</th>\n",
       "      <td>Nonmetro - Urban population of 2,500 to 19,999...</td>\n",
       "      <td>Noncore adjacent to a small metro with town of...</td>\n",
       "      <td>Nonspecialized</td>\n",
       "      <td>0.500</td>\n",
       "      <td>0.061</td>\n",
       "      <td>0.203</td>\n",
       "      <td>0.059</td>\n",
       "      <td>0.525</td>\n",
       "      <td>0.200</td>\n",
       "      <td>0.164</td>\n",
       "      <td>...</td>\n",
       "      <td>0.104</td>\n",
       "      <td>0.058</td>\n",
       "      <td>NaN</td>\n",
       "      <td>0.238</td>\n",
       "      <td>13.0</td>\n",
       "      <td>NaN</td>\n",
       "      <td>NaN</td>\n",
       "      <td>1810.0</td>\n",
       "      <td>6630.0</td>\n",
       "      <td>b</td>\n",
       "    </tr>\n",
       "    <tr>\n",
       "      <th>6</th>\n",
       "      <td>Nonmetro - Urban population of 2,500 to 19,999...</td>\n",
       "      <td>Noncore not adjacent to a metro/micro area and...</td>\n",
       "      <td>Nonspecialized</td>\n",
       "      <td>0.471</td>\n",
       "      <td>0.050</td>\n",
       "      <td>0.225</td>\n",
       "      <td>0.103</td>\n",
       "      <td>0.511</td>\n",
       "      <td>0.237</td>\n",
       "      <td>0.171</td>\n",
       "      <td>...</td>\n",
       "      <td>0.137</td>\n",
       "      <td>0.070</td>\n",
       "      <td>0.194</td>\n",
       "      <td>0.290</td>\n",
       "      <td>9.0</td>\n",
       "      <td>NaN</td>\n",
       "      <td>29.39</td>\n",
       "      <td>3489.0</td>\n",
       "      <td>2590.0</td>\n",
       "      <td>a</td>\n",
       "    </tr>\n",
       "  </tbody>\n",
       "</table>\n",
       "<p>5 rows × 33 columns</p>\n",
       "</div>"
      ],
      "text/plain": [
       "                                               area__rucc  \\\n",
       "row_id                                                      \n",
       "0       Metro - Counties in metro areas of fewer than ...   \n",
       "1       Metro - Counties in metro areas of fewer than ...   \n",
       "4       Metro - Counties in metro areas of 1 million p...   \n",
       "5       Nonmetro - Urban population of 2,500 to 19,999...   \n",
       "6       Nonmetro - Urban population of 2,500 to 19,999...   \n",
       "\n",
       "                                    area__urban_influence  \\\n",
       "row_id                                                      \n",
       "0       Small-in a metro area with fewer than 1 millio...   \n",
       "1       Small-in a metro area with fewer than 1 millio...   \n",
       "4       Large-in a metro area with at least 1 million ...   \n",
       "5       Noncore adjacent to a small metro with town of...   \n",
       "6       Noncore not adjacent to a metro/micro area and...   \n",
       "\n",
       "        econ__economic_typology  econ__pct_civilian_labor  \\\n",
       "row_id                                                      \n",
       "0       Manufacturing-dependent                     0.408   \n",
       "1              Mining-dependent                     0.556   \n",
       "4                Nonspecialized                     0.541   \n",
       "5                Nonspecialized                     0.500   \n",
       "6                Nonspecialized                     0.471   \n",
       "\n",
       "        econ__pct_unemployment  econ__pct_uninsured_adults  \\\n",
       "row_id                                                       \n",
       "0                        0.057                       0.254   \n",
       "1                        0.039                       0.260   \n",
       "4                        0.057                       0.070   \n",
       "5                        0.061                       0.203   \n",
       "6                        0.050                       0.225   \n",
       "\n",
       "        econ__pct_uninsured_children  demo__pct_female  \\\n",
       "row_id                                                   \n",
       "0                              0.066             0.516   \n",
       "1                              0.143             0.503   \n",
       "4                              0.023             0.522   \n",
       "5                              0.059             0.525   \n",
       "6                              0.103             0.511   \n",
       "\n",
       "        demo__pct_below_18_years_of_age  demo__pct_aged_65_years_and_older  \\\n",
       "row_id                                                                       \n",
       "0                                 0.235                              0.176   \n",
       "1                                 0.272                              0.101   \n",
       "4                                 0.179                              0.115   \n",
       "5                                 0.200                              0.164   \n",
       "6                                 0.237                              0.171   \n",
       "\n",
       "       ...  health__pct_diabetes  health__pct_low_birthweight  \\\n",
       "row_id ...                                                      \n",
       "0      ...                 0.131                        0.089   \n",
       "1      ...                 0.090                        0.082   \n",
       "4      ...                 0.084                        0.098   \n",
       "5      ...                 0.104                        0.058   \n",
       "6      ...                 0.137                        0.070   \n",
       "\n",
       "        health__pct_excessive_drinking  health__pct_physical_inacticity  \\\n",
       "row_id                                                                    \n",
       "0                                  NaN                            0.332   \n",
       "1                                0.181                            0.265   \n",
       "4                                0.195                            0.209   \n",
       "5                                  NaN                            0.238   \n",
       "6                                0.194                            0.290   \n",
       "\n",
       "        health__air_pollution_particulate_matter  health__homicides_per_100k  \\\n",
       "row_id                                                                         \n",
       "0                                           13.0                        2.80   \n",
       "1                                           10.0                        2.30   \n",
       "4                                           10.0                        9.31   \n",
       "5                                           13.0                         NaN   \n",
       "6                                            9.0                         NaN   \n",
       "\n",
       "        health__motor_vehicle_crash_deaths_per_100k  health__pop_per_dentist  \\\n",
       "row_id                                                                         \n",
       "0                                             15.09                   1650.0   \n",
       "1                                             19.79                   2010.0   \n",
       "4                                              3.14                    629.0   \n",
       "5                                               NaN                   1810.0   \n",
       "6                                             29.39                   3489.0   \n",
       "\n",
       "        health__pop_per_primary_care_physician  yr  \n",
       "row_id                                              \n",
       "0                                       1489.0   a  \n",
       "1                                       2480.0   a  \n",
       "4                                        690.0   b  \n",
       "5                                       6630.0   b  \n",
       "6                                       2590.0   a  \n",
       "\n",
       "[5 rows x 33 columns]"
      ]
     },
     "execution_count": 3,
     "metadata": {},
     "output_type": "execute_result"
    }
   ],
   "source": [
    "X.head()"
   ]
  },
  {
   "cell_type": "markdown",
   "metadata": {},
   "source": [
    "### Basic Statistics"
   ]
  },
  {
   "cell_type": "code",
   "execution_count": 4,
   "metadata": {},
   "outputs": [
    {
     "name": "stdout",
     "output_type": "stream",
     "text": [
      "Minimum mortality rate: 109\n",
      "Maxmum mortality rate: 512\n",
      "Mean mortality rate: 279.3692933083177\n",
      "Median mortality rate: 275.0\n",
      "Standard deviation of mortality rate 58.95333788457741\n"
     ]
    }
   ],
   "source": [
    "print('Minimum mortality rate:', y.heart_disease_mortality_per_100k.min())\n",
    "print('Maxmum mortality rate:', y.heart_disease_mortality_per_100k.max())\n",
    "print('Mean mortality rate:', y.heart_disease_mortality_per_100k.mean())\n",
    "print('Median mortality rate:', y.heart_disease_mortality_per_100k.median())\n",
    "print('Standard deviation of mortality rate', y.heart_disease_mortality_per_100k.std())"
   ]
  },
  {
   "cell_type": "markdown",
   "metadata": {},
   "source": [
    "### Distribution of mortality rate"
   ]
  },
  {
   "cell_type": "code",
   "execution_count": 15,
   "metadata": {},
   "outputs": [
    {
     "ename": "NameError",
     "evalue": "name 'plt' is not defined",
     "output_type": "error",
     "traceback": [
      "\u001b[1;31m---------------------------------------------------------------------------\u001b[0m",
      "\u001b[1;31mNameError\u001b[0m                                 Traceback (most recent call last)",
      "\u001b[1;32m<ipython-input-15-00dcd01bbd41>\u001b[0m in \u001b[0;36m<module>\u001b[1;34m()\u001b[0m\n\u001b[0;32m      1\u001b[0m \u001b[0mhist\u001b[0m \u001b[1;33m=\u001b[0m \u001b[0my\u001b[0m\u001b[1;33m.\u001b[0m\u001b[0mhist\u001b[0m\u001b[1;33m(\u001b[0m\u001b[1;33m)\u001b[0m\u001b[1;33m\u001b[0m\u001b[0m\n\u001b[0;32m      2\u001b[0m \u001b[0mhist\u001b[0m\u001b[1;33m\u001b[0m\u001b[0m\n\u001b[1;32m----> 3\u001b[1;33m \u001b[0mplt\u001b[0m\u001b[1;33m.\u001b[0m\u001b[0mshow\u001b[0m\u001b[1;33m(\u001b[0m\u001b[1;33m)\u001b[0m\u001b[1;33m\u001b[0m\u001b[0m\n\u001b[0m",
      "\u001b[1;31mNameError\u001b[0m: name 'plt' is not defined"
     ]
    },
    {
     "data": {
      "image/png": "[encoded data removed]",
      "text/plain": [
       "<matplotlib.figure.Figure at 0x1ad36d5d940>"
      ]
     },
     "metadata": {},
     "output_type": "display_data"
    }
   ],
   "source": [
    "hist = y.hist()\n",
    "hist\n",
    "plt.show()"
   ]
  },
  {
   "cell_type": "markdown",
   "metadata": {},
   "source": [
    "### Metro vs mortality rate"
   ]
  },
  {
   "cell_type": "code",
   "execution_count": 6,
   "metadata": {},
   "outputs": [],
   "source": [
    "df_train = pd.merge(X, y, left_index=True, right_index=True)"
   ]
  },
  {
   "cell_type": "code",
   "execution_count": 7,
   "metadata": {},
   "outputs": [
    {
     "data": {
      "text/plain": [
       "array(['Metro - Counties in metro areas of fewer than 250,000 population',\n",
       "       'Metro - Counties in metro areas of 1 million population or more',\n",
       "       'Nonmetro - Urban population of 2,500 to 19,999, adjacent to a metro area',\n",
       "       'Nonmetro - Urban population of 2,500 to 19,999, not adjacent to a metro area',\n",
       "       'Nonmetro - Urban population of 20,000 or more, adjacent to a metro area',\n",
       "       'Metro - Counties in metro areas of 250,000 to 1 million population',\n",
       "       'Nonmetro - Completely rural or less than 2,500 urban population, not adjacent to a metro area',\n",
       "       'Nonmetro - Completely rural or less than 2,500 urban population, adjacent to a metro area',\n",
       "       'Nonmetro - Urban population of 20,000 or more, not adjacent to a metro area'],\n",
       "      dtype=object)"
      ]
     },
     "execution_count": 7,
     "metadata": {},
     "output_type": "execute_result"
    }
   ],
   "source": [
    "df_train.area__rucc.unique()"
   ]
  },
  {
   "cell_type": "code",
   "execution_count": 8,
   "metadata": {},
   "outputs": [],
   "source": [
    "df_train['Metro?'] = ''\n",
    "df_train.loc[df_train['area__rucc'].str[:5] == 'Metro', 'Metro?'] = 'Metro'\n",
    "df_train.loc[df_train['area__rucc'].str[:8] == 'Nonmetro', 'Metro?'] = 'Nonmetro'"
   ]
  },
  {
   "cell_type": "code",
   "execution_count": 9,
   "metadata": {},
   "outputs": [
    {
     "data": {
      "text/html": [
       "<div>\n",
       "<style scoped>\n",
       "    .dataframe tbody tr th:only-of-type {\n",
       "        vertical-align: middle;\n",
       "    }\n",
       "\n",
       "    .dataframe tbody tr th {\n",
       "        vertical-align: top;\n",
       "    }\n",
       "\n",
       "    .dataframe thead th {\n",
       "        text-align: right;\n",
       "    }\n",
       "</style>\n",
       "<table border=\"1\" class=\"dataframe\">\n",
       "  <thead>\n",
       "    <tr style=\"text-align: right;\">\n",
       "      <th></th>\n",
       "      <th>heart_disease_mortality_per_100k</th>\n",
       "    </tr>\n",
       "    <tr>\n",
       "      <th>Metro?</th>\n",
       "      <th></th>\n",
       "    </tr>\n",
       "  </thead>\n",
       "  <tbody>\n",
       "    <tr>\n",
       "      <th>Metro</th>\n",
       "      <td>261</td>\n",
       "    </tr>\n",
       "    <tr>\n",
       "      <th>Nonmetro</th>\n",
       "      <td>282</td>\n",
       "    </tr>\n",
       "  </tbody>\n",
       "</table>\n",
       "</div>"
      ],
      "text/plain": [
       "          heart_disease_mortality_per_100k\n",
       "Metro?                                    \n",
       "Metro                                  261\n",
       "Nonmetro                               282"
      ]
     },
     "execution_count": 9,
     "metadata": {},
     "output_type": "execute_result"
    }
   ],
   "source": [
    "df_train.groupby(df_train['Metro?'])[['heart_disease_mortality_per_100k']].median()"
   ]
  },
  {
   "cell_type": "markdown",
   "metadata": {},
   "source": [
    "### Birth rate vs mortality rate"
   ]
  },
  {
   "cell_type": "code",
   "execution_count": 10,
   "metadata": {},
   "outputs": [
    {
     "data": {
      "text/plain": [
       "0.14217629783295996"
      ]
     },
     "execution_count": 10,
     "metadata": {},
     "output_type": "execute_result"
    }
   ],
   "source": [
    "df_train['demo__birth_rate_per_1k'].corr(df_train['heart_disease_mortality_per_100k'])"
   ]
  },
  {
   "cell_type": "markdown",
   "metadata": {},
   "source": [
    "### Tobacco and alcohol use vs mortality rate"
   ]
  },
  {
   "cell_type": "code",
   "execution_count": 11,
   "metadata": {},
   "outputs": [
    {
     "data": {
      "text/plain": [
       "0.49706330920019287"
      ]
     },
     "execution_count": 11,
     "metadata": {},
     "output_type": "execute_result"
    }
   ],
   "source": [
    "df_train['health__pct_adult_smoking'].corr(df_train['heart_disease_mortality_per_100k'])"
   ]
  },
  {
   "cell_type": "code",
   "execution_count": 12,
   "metadata": {},
   "outputs": [
    {
     "data": {
      "text/plain": [
       "-0.3821721055119925"
      ]
     },
     "execution_count": 12,
     "metadata": {},
     "output_type": "execute_result"
    }
   ],
   "source": [
    "df_train['health__pct_excessive_drinking'].corr(df_train['heart_disease_mortality_per_100k'])"
   ]
  },
  {
   "cell_type": "markdown",
   "metadata": {},
   "source": [
    "### Older people and metro/non-metro vs mortality rate"
   ]
  },
  {
   "cell_type": "code",
   "execution_count": 13,
   "metadata": {},
   "outputs": [],
   "source": [
    "df_train['large_elderly_pop'] = ''\n",
    "df_train.loc[df_train['demo__pct_aged_65_years_and_older'] > 0.2, 'large_elderly_pop'] = 'Y'\n",
    "df_train.loc[df_train['demo__pct_aged_65_years_and_older'] <= 0.2, 'large_elderly_pop'] = 'N'"
   ]
  },
  {
   "cell_type": "code",
   "execution_count": 14,
   "metadata": {},
   "outputs": [
    {
     "data": {
      "text/plain": [
       "Metro?    large_elderly_pop\n",
       "Metro     N                    263.0\n",
       "          Y                    250.0\n",
       "Nonmetro                       187.5\n",
       "          N                    294.0\n",
       "          Y                    254.0\n",
       "Name: heart_disease_mortality_per_100k, dtype: float64"
      ]
     },
     "execution_count": 14,
     "metadata": {},
     "output_type": "execute_result"
    }
   ],
   "source": [
    "df_train.groupby(['Metro?','large_elderly_pop'])['heart_disease_mortality_per_100k'].median()"
   ]
  }
 ],
 "metadata": {
  "kernelspec": {
   "display_name": "Python 3",
   "language": "python",
   "name": "python3"
  },
  "language_info": {
   "codemirror_mode": {
    "name": "ipython",
    "version": 3
   },
   "file_extension": ".py",
   "mimetype": "text/x-python",
   "name": "python",
   "nbconvert_exporter": "python",
   "pygments_lexer": "ipython3",
   "version": "3.6.4"
  }
 },
 "nbformat": 4,
 "nbformat_minor": 2
}
